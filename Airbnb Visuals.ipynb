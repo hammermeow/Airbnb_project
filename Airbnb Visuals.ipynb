{
 "cells": [
  {
   "cell_type": "code",
   "execution_count": 1,
   "metadata": {},
   "outputs": [],
   "source": [
    "import matplotlib as mlp\n",
    "import matplotlib.pyplot as plt\n",
    "import numpy as np\n",
    "import pandas as pd\n",
    "import os\n",
    "import os.path\n",
    "import seaborn as sns"
   ]
  },
  {
   "cell_type": "code",
   "execution_count": 2,
   "metadata": {},
   "outputs": [
    {
     "data": {
      "text/plain": [
       "'C:\\\\Users\\\\inner\\\\Documents\\\\A_CS799'"
      ]
     },
     "execution_count": 2,
     "metadata": {},
     "output_type": "execute_result"
    }
   ],
   "source": [
    "os.getcwd()\n",
    "# os.chdir('C:\\\\Users\\\\inner\\\\Documents\\\\A_CS799')"
   ]
  },
  {
   "cell_type": "code",
   "execution_count": 2,
   "metadata": {},
   "outputs": [
    {
     "data": {
      "text/html": [
       "<div>\n",
       "<style scoped>\n",
       "    .dataframe tbody tr th:only-of-type {\n",
       "        vertical-align: middle;\n",
       "    }\n",
       "\n",
       "    .dataframe tbody tr th {\n",
       "        vertical-align: top;\n",
       "    }\n",
       "\n",
       "    .dataframe thead th {\n",
       "        text-align: right;\n",
       "    }\n",
       "</style>\n",
       "<table border=\"1\" class=\"dataframe\">\n",
       "  <thead>\n",
       "    <tr style=\"text-align: right;\">\n",
       "      <th></th>\n",
       "      <th>host_response_time</th>\n",
       "      <th>host_response_rate</th>\n",
       "      <th>host_total_listings_count</th>\n",
       "      <th>zipcode</th>\n",
       "      <th>property_type</th>\n",
       "      <th>room_type</th>\n",
       "      <th>accommodates</th>\n",
       "      <th>bathrooms</th>\n",
       "      <th>bedrooms</th>\n",
       "      <th>beds</th>\n",
       "      <th>...</th>\n",
       "      <th>availability_90</th>\n",
       "      <th>availability_365</th>\n",
       "      <th>number_of_reviews</th>\n",
       "      <th>review_scores_rating</th>\n",
       "      <th>instant_bookable</th>\n",
       "      <th>cancellation_policy</th>\n",
       "      <th>reviews_per_month</th>\n",
       "      <th>host_tenure</th>\n",
       "      <th>host_verifications_cnt</th>\n",
       "      <th>amentities_cnt</th>\n",
       "    </tr>\n",
       "  </thead>\n",
       "  <tbody>\n",
       "    <tr>\n",
       "      <th>0</th>\n",
       "      <td>within an hour</td>\n",
       "      <td>all the time</td>\n",
       "      <td>1</td>\n",
       "      <td>92104.0</td>\n",
       "      <td>House</td>\n",
       "      <td>Entire home/apt</td>\n",
       "      <td>6</td>\n",
       "      <td>2.0</td>\n",
       "      <td>3.0</td>\n",
       "      <td>4.0</td>\n",
       "      <td>...</td>\n",
       "      <td>0.00</td>\n",
       "      <td>0.04</td>\n",
       "      <td>148</td>\n",
       "      <td>High</td>\n",
       "      <td>t</td>\n",
       "      <td>strict_14_with_grace_period</td>\n",
       "      <td>1.18</td>\n",
       "      <td>more than 5 years</td>\n",
       "      <td>9</td>\n",
       "      <td>35</td>\n",
       "    </tr>\n",
       "    <tr>\n",
       "      <th>1</th>\n",
       "      <td>within a day</td>\n",
       "      <td>sometimes</td>\n",
       "      <td>1</td>\n",
       "      <td>92107.0</td>\n",
       "      <td>Guesthouse</td>\n",
       "      <td>Entire home/apt</td>\n",
       "      <td>2</td>\n",
       "      <td>1.0</td>\n",
       "      <td>0.0</td>\n",
       "      <td>1.0</td>\n",
       "      <td>...</td>\n",
       "      <td>0.00</td>\n",
       "      <td>0.00</td>\n",
       "      <td>178</td>\n",
       "      <td>Low</td>\n",
       "      <td>f</td>\n",
       "      <td>strict_14_with_grace_period</td>\n",
       "      <td>1.58</td>\n",
       "      <td>more than 5 years</td>\n",
       "      <td>6</td>\n",
       "      <td>6</td>\n",
       "    </tr>\n",
       "    <tr>\n",
       "      <th>2</th>\n",
       "      <td>within an hour</td>\n",
       "      <td>all the time</td>\n",
       "      <td>1</td>\n",
       "      <td>92104.0</td>\n",
       "      <td>Other</td>\n",
       "      <td>Entire home/apt</td>\n",
       "      <td>2</td>\n",
       "      <td>1.0</td>\n",
       "      <td>1.0</td>\n",
       "      <td>1.0</td>\n",
       "      <td>...</td>\n",
       "      <td>0.38</td>\n",
       "      <td>0.75</td>\n",
       "      <td>334</td>\n",
       "      <td>High</td>\n",
       "      <td>f</td>\n",
       "      <td>strict_14_with_grace_period</td>\n",
       "      <td>3.33</td>\n",
       "      <td>more than 5 years</td>\n",
       "      <td>7</td>\n",
       "      <td>32</td>\n",
       "    </tr>\n",
       "    <tr>\n",
       "      <th>3</th>\n",
       "      <td>within an hour</td>\n",
       "      <td>all the time</td>\n",
       "      <td>1</td>\n",
       "      <td>92107.0</td>\n",
       "      <td>House</td>\n",
       "      <td>Entire home/apt</td>\n",
       "      <td>2</td>\n",
       "      <td>1.0</td>\n",
       "      <td>1.0</td>\n",
       "      <td>1.0</td>\n",
       "      <td>...</td>\n",
       "      <td>0.98</td>\n",
       "      <td>0.99</td>\n",
       "      <td>6</td>\n",
       "      <td>Low</td>\n",
       "      <td>f</td>\n",
       "      <td>moderate</td>\n",
       "      <td>0.06</td>\n",
       "      <td>more than 5 years</td>\n",
       "      <td>3</td>\n",
       "      <td>6</td>\n",
       "    </tr>\n",
       "    <tr>\n",
       "      <th>4</th>\n",
       "      <td>within an hour</td>\n",
       "      <td>all the time</td>\n",
       "      <td>4</td>\n",
       "      <td>92037.0</td>\n",
       "      <td>House</td>\n",
       "      <td>Private room</td>\n",
       "      <td>2</td>\n",
       "      <td>1.0</td>\n",
       "      <td>1.0</td>\n",
       "      <td>1.0</td>\n",
       "      <td>...</td>\n",
       "      <td>0.20</td>\n",
       "      <td>0.80</td>\n",
       "      <td>172</td>\n",
       "      <td>High</td>\n",
       "      <td>f</td>\n",
       "      <td>flexible</td>\n",
       "      <td>1.82</td>\n",
       "      <td>more than 5 years</td>\n",
       "      <td>4</td>\n",
       "      <td>38</td>\n",
       "    </tr>\n",
       "  </tbody>\n",
       "</table>\n",
       "<p>5 rows × 29 columns</p>\n",
       "</div>"
      ],
      "text/plain": [
       "  host_response_time host_response_rate  host_total_listings_count  zipcode  \\\n",
       "0     within an hour       all the time                          1  92104.0   \n",
       "1       within a day          sometimes                          1  92107.0   \n",
       "2     within an hour       all the time                          1  92104.0   \n",
       "3     within an hour       all the time                          1  92107.0   \n",
       "4     within an hour       all the time                          4  92037.0   \n",
       "\n",
       "  property_type        room_type  accommodates  bathrooms  bedrooms  beds  \\\n",
       "0         House  Entire home/apt             6        2.0       3.0   4.0   \n",
       "1    Guesthouse  Entire home/apt             2        1.0       0.0   1.0   \n",
       "2         Other  Entire home/apt             2        1.0       1.0   1.0   \n",
       "3         House  Entire home/apt             2        1.0       1.0   1.0   \n",
       "4         House     Private room             2        1.0       1.0   1.0   \n",
       "\n",
       "        ...       availability_90  availability_365  number_of_reviews  \\\n",
       "0       ...                  0.00              0.04                148   \n",
       "1       ...                  0.00              0.00                178   \n",
       "2       ...                  0.38              0.75                334   \n",
       "3       ...                  0.98              0.99                  6   \n",
       "4       ...                  0.20              0.80                172   \n",
       "\n",
       "   review_scores_rating  instant_bookable          cancellation_policy  \\\n",
       "0                  High                 t  strict_14_with_grace_period   \n",
       "1                   Low                 f  strict_14_with_grace_period   \n",
       "2                  High                 f  strict_14_with_grace_period   \n",
       "3                   Low                 f                     moderate   \n",
       "4                  High                 f                     flexible   \n",
       "\n",
       "   reviews_per_month        host_tenure  host_verifications_cnt  \\\n",
       "0               1.18  more than 5 years                       9   \n",
       "1               1.58  more than 5 years                       6   \n",
       "2               3.33  more than 5 years                       7   \n",
       "3               0.06  more than 5 years                       3   \n",
       "4               1.82  more than 5 years                       4   \n",
       "\n",
       "   amentities_cnt  \n",
       "0              35  \n",
       "1               6  \n",
       "2              32  \n",
       "3               6  \n",
       "4              38  \n",
       "\n",
       "[5 rows x 29 columns]"
      ]
     },
     "execution_count": 2,
     "metadata": {},
     "output_type": "execute_result"
    }
   ],
   "source": [
    "airbnbDF = pd.read_csv('ratingclasssmall.csv')\n",
    "airbnbDF.head()"
   ]
  },
  {
   "cell_type": "code",
   "execution_count": null,
   "metadata": {},
   "outputs": [],
   "source": [
    "# a=airbnbDF[airbnbDF['review_scores_rating']=='High']\n",
    "# ind = np.arange(N)    # the x locations for the groups\n",
    "# width = 0.35       # the width of the bars: can also be len(x) sequence\n",
    "\n",
    "# p1 = plt.bar(ind, menMeans, width, color='#d62728', yerr=menStd)\n",
    "# p2 = plt.bar(ind, womenMeans, width,\n",
    "#              bottom=menMeans, yerr=womenStd)\n",
    "\n",
    "# plt.ylabel('Scores')\n",
    "# plt.title('Scores by group and gender')\n",
    "# plt.xticks(ind, ('G1', 'G2', 'G3', 'G4', 'G5'))\n",
    "# plt.yticks(np.arange(0, 81, 10))\n",
    "# plt.legend((p1[0], p2[0]), ('Men', 'Women'))\n",
    "\n",
    "# plt.show()"
   ]
  },
  {
   "cell_type": "code",
   "execution_count": 4,
   "metadata": {},
   "outputs": [],
   "source": [
    "response=airbnbDF.groupby(by=['host_response_rate','review_scores_rating'])"
   ]
  },
  {
   "cell_type": "code",
   "execution_count": 5,
   "metadata": {},
   "outputs": [
    {
     "data": {
      "text/html": [
       "<div>\n",
       "<style scoped>\n",
       "    .dataframe tbody tr th:only-of-type {\n",
       "        vertical-align: middle;\n",
       "    }\n",
       "\n",
       "    .dataframe tbody tr th {\n",
       "        vertical-align: top;\n",
       "    }\n",
       "\n",
       "    .dataframe thead th {\n",
       "        text-align: right;\n",
       "    }\n",
       "</style>\n",
       "<table border=\"1\" class=\"dataframe\">\n",
       "  <thead>\n",
       "    <tr style=\"text-align: right;\">\n",
       "      <th></th>\n",
       "      <th></th>\n",
       "      <th>host_response_time</th>\n",
       "      <th>host_total_listings_count</th>\n",
       "      <th>zipcode</th>\n",
       "      <th>property_type</th>\n",
       "      <th>room_type</th>\n",
       "      <th>accommodates</th>\n",
       "      <th>bathrooms</th>\n",
       "      <th>bedrooms</th>\n",
       "      <th>beds</th>\n",
       "      <th>bed_type</th>\n",
       "      <th>...</th>\n",
       "      <th>availability_60</th>\n",
       "      <th>availability_90</th>\n",
       "      <th>availability_365</th>\n",
       "      <th>number_of_reviews</th>\n",
       "      <th>instant_bookable</th>\n",
       "      <th>cancellation_policy</th>\n",
       "      <th>reviews_per_month</th>\n",
       "      <th>host_tenure</th>\n",
       "      <th>host_verifications_cnt</th>\n",
       "      <th>amentities_cnt</th>\n",
       "    </tr>\n",
       "    <tr>\n",
       "      <th>host_response_rate</th>\n",
       "      <th>review_scores_rating</th>\n",
       "      <th></th>\n",
       "      <th></th>\n",
       "      <th></th>\n",
       "      <th></th>\n",
       "      <th></th>\n",
       "      <th></th>\n",
       "      <th></th>\n",
       "      <th></th>\n",
       "      <th></th>\n",
       "      <th></th>\n",
       "      <th></th>\n",
       "      <th></th>\n",
       "      <th></th>\n",
       "      <th></th>\n",
       "      <th></th>\n",
       "      <th></th>\n",
       "      <th></th>\n",
       "      <th></th>\n",
       "      <th></th>\n",
       "      <th></th>\n",
       "      <th></th>\n",
       "    </tr>\n",
       "  </thead>\n",
       "  <tbody>\n",
       "    <tr>\n",
       "      <th rowspan=\"2\" valign=\"top\">all the time</th>\n",
       "      <th>High</th>\n",
       "      <td>5848</td>\n",
       "      <td>5848</td>\n",
       "      <td>5785</td>\n",
       "      <td>5848</td>\n",
       "      <td>5848</td>\n",
       "      <td>5848</td>\n",
       "      <td>5847</td>\n",
       "      <td>5845</td>\n",
       "      <td>5846</td>\n",
       "      <td>5848</td>\n",
       "      <td>...</td>\n",
       "      <td>5848</td>\n",
       "      <td>5848</td>\n",
       "      <td>5848</td>\n",
       "      <td>5848</td>\n",
       "      <td>5848</td>\n",
       "      <td>5848</td>\n",
       "      <td>5848</td>\n",
       "      <td>5848</td>\n",
       "      <td>5848</td>\n",
       "      <td>5848</td>\n",
       "    </tr>\n",
       "    <tr>\n",
       "      <th>Low</th>\n",
       "      <td>2021</td>\n",
       "      <td>2021</td>\n",
       "      <td>2005</td>\n",
       "      <td>2021</td>\n",
       "      <td>2021</td>\n",
       "      <td>2021</td>\n",
       "      <td>2021</td>\n",
       "      <td>2020</td>\n",
       "      <td>2021</td>\n",
       "      <td>2021</td>\n",
       "      <td>...</td>\n",
       "      <td>2021</td>\n",
       "      <td>2021</td>\n",
       "      <td>2021</td>\n",
       "      <td>2021</td>\n",
       "      <td>2021</td>\n",
       "      <td>2021</td>\n",
       "      <td>2021</td>\n",
       "      <td>2021</td>\n",
       "      <td>2021</td>\n",
       "      <td>2021</td>\n",
       "    </tr>\n",
       "    <tr>\n",
       "      <th rowspan=\"2\" valign=\"top\">most of the time</th>\n",
       "      <th>High</th>\n",
       "      <td>287</td>\n",
       "      <td>287</td>\n",
       "      <td>286</td>\n",
       "      <td>287</td>\n",
       "      <td>287</td>\n",
       "      <td>287</td>\n",
       "      <td>287</td>\n",
       "      <td>287</td>\n",
       "      <td>287</td>\n",
       "      <td>287</td>\n",
       "      <td>...</td>\n",
       "      <td>287</td>\n",
       "      <td>287</td>\n",
       "      <td>287</td>\n",
       "      <td>287</td>\n",
       "      <td>287</td>\n",
       "      <td>287</td>\n",
       "      <td>287</td>\n",
       "      <td>287</td>\n",
       "      <td>287</td>\n",
       "      <td>287</td>\n",
       "    </tr>\n",
       "    <tr>\n",
       "      <th>Low</th>\n",
       "      <td>371</td>\n",
       "      <td>371</td>\n",
       "      <td>371</td>\n",
       "      <td>371</td>\n",
       "      <td>371</td>\n",
       "      <td>371</td>\n",
       "      <td>371</td>\n",
       "      <td>371</td>\n",
       "      <td>371</td>\n",
       "      <td>371</td>\n",
       "      <td>...</td>\n",
       "      <td>371</td>\n",
       "      <td>371</td>\n",
       "      <td>371</td>\n",
       "      <td>371</td>\n",
       "      <td>371</td>\n",
       "      <td>371</td>\n",
       "      <td>371</td>\n",
       "      <td>371</td>\n",
       "      <td>371</td>\n",
       "      <td>371</td>\n",
       "    </tr>\n",
       "    <tr>\n",
       "      <th rowspan=\"2\" valign=\"top\">sometimes</th>\n",
       "      <th>High</th>\n",
       "      <td>465</td>\n",
       "      <td>465</td>\n",
       "      <td>453</td>\n",
       "      <td>465</td>\n",
       "      <td>465</td>\n",
       "      <td>465</td>\n",
       "      <td>464</td>\n",
       "      <td>465</td>\n",
       "      <td>465</td>\n",
       "      <td>465</td>\n",
       "      <td>...</td>\n",
       "      <td>465</td>\n",
       "      <td>465</td>\n",
       "      <td>465</td>\n",
       "      <td>465</td>\n",
       "      <td>465</td>\n",
       "      <td>465</td>\n",
       "      <td>465</td>\n",
       "      <td>465</td>\n",
       "      <td>465</td>\n",
       "      <td>465</td>\n",
       "    </tr>\n",
       "    <tr>\n",
       "      <th>Low</th>\n",
       "      <td>499</td>\n",
       "      <td>499</td>\n",
       "      <td>494</td>\n",
       "      <td>499</td>\n",
       "      <td>499</td>\n",
       "      <td>499</td>\n",
       "      <td>499</td>\n",
       "      <td>499</td>\n",
       "      <td>499</td>\n",
       "      <td>499</td>\n",
       "      <td>...</td>\n",
       "      <td>499</td>\n",
       "      <td>499</td>\n",
       "      <td>499</td>\n",
       "      <td>499</td>\n",
       "      <td>499</td>\n",
       "      <td>499</td>\n",
       "      <td>499</td>\n",
       "      <td>499</td>\n",
       "      <td>499</td>\n",
       "      <td>499</td>\n",
       "    </tr>\n",
       "  </tbody>\n",
       "</table>\n",
       "<p>6 rows × 27 columns</p>\n",
       "</div>"
      ],
      "text/plain": [
       "                                         host_response_time  \\\n",
       "host_response_rate review_scores_rating                       \n",
       "all the time       High                                5848   \n",
       "                   Low                                 2021   \n",
       "most of the time   High                                 287   \n",
       "                   Low                                  371   \n",
       "sometimes          High                                 465   \n",
       "                   Low                                  499   \n",
       "\n",
       "                                         host_total_listings_count  zipcode  \\\n",
       "host_response_rate review_scores_rating                                       \n",
       "all the time       High                                       5848     5785   \n",
       "                   Low                                        2021     2005   \n",
       "most of the time   High                                        287      286   \n",
       "                   Low                                         371      371   \n",
       "sometimes          High                                        465      453   \n",
       "                   Low                                         499      494   \n",
       "\n",
       "                                         property_type  room_type  \\\n",
       "host_response_rate review_scores_rating                             \n",
       "all the time       High                           5848       5848   \n",
       "                   Low                            2021       2021   \n",
       "most of the time   High                            287        287   \n",
       "                   Low                             371        371   \n",
       "sometimes          High                            465        465   \n",
       "                   Low                             499        499   \n",
       "\n",
       "                                         accommodates  bathrooms  bedrooms  \\\n",
       "host_response_rate review_scores_rating                                      \n",
       "all the time       High                          5848       5847      5845   \n",
       "                   Low                           2021       2021      2020   \n",
       "most of the time   High                           287        287       287   \n",
       "                   Low                            371        371       371   \n",
       "sometimes          High                           465        464       465   \n",
       "                   Low                            499        499       499   \n",
       "\n",
       "                                         beds  bed_type       ...        \\\n",
       "host_response_rate review_scores_rating                       ...         \n",
       "all the time       High                  5846      5848       ...         \n",
       "                   Low                   2021      2021       ...         \n",
       "most of the time   High                   287       287       ...         \n",
       "                   Low                    371       371       ...         \n",
       "sometimes          High                   465       465       ...         \n",
       "                   Low                    499       499       ...         \n",
       "\n",
       "                                         availability_60  availability_90  \\\n",
       "host_response_rate review_scores_rating                                     \n",
       "all the time       High                             5848             5848   \n",
       "                   Low                              2021             2021   \n",
       "most of the time   High                              287              287   \n",
       "                   Low                               371              371   \n",
       "sometimes          High                              465              465   \n",
       "                   Low                               499              499   \n",
       "\n",
       "                                         availability_365  number_of_reviews  \\\n",
       "host_response_rate review_scores_rating                                        \n",
       "all the time       High                              5848               5848   \n",
       "                   Low                               2021               2021   \n",
       "most of the time   High                               287                287   \n",
       "                   Low                                371                371   \n",
       "sometimes          High                               465                465   \n",
       "                   Low                                499                499   \n",
       "\n",
       "                                         instant_bookable  \\\n",
       "host_response_rate review_scores_rating                     \n",
       "all the time       High                              5848   \n",
       "                   Low                               2021   \n",
       "most of the time   High                               287   \n",
       "                   Low                                371   \n",
       "sometimes          High                               465   \n",
       "                   Low                                499   \n",
       "\n",
       "                                         cancellation_policy  \\\n",
       "host_response_rate review_scores_rating                        \n",
       "all the time       High                                 5848   \n",
       "                   Low                                  2021   \n",
       "most of the time   High                                  287   \n",
       "                   Low                                   371   \n",
       "sometimes          High                                  465   \n",
       "                   Low                                   499   \n",
       "\n",
       "                                         reviews_per_month  host_tenure  \\\n",
       "host_response_rate review_scores_rating                                   \n",
       "all the time       High                               5848         5848   \n",
       "                   Low                                2021         2021   \n",
       "most of the time   High                                287          287   \n",
       "                   Low                                 371          371   \n",
       "sometimes          High                                465          465   \n",
       "                   Low                                 499          499   \n",
       "\n",
       "                                         host_verifications_cnt  \\\n",
       "host_response_rate review_scores_rating                           \n",
       "all the time       High                                    5848   \n",
       "                   Low                                     2021   \n",
       "most of the time   High                                     287   \n",
       "                   Low                                      371   \n",
       "sometimes          High                                     465   \n",
       "                   Low                                      499   \n",
       "\n",
       "                                         amentities_cnt  \n",
       "host_response_rate review_scores_rating                  \n",
       "all the time       High                            5848  \n",
       "                   Low                             2021  \n",
       "most of the time   High                             287  \n",
       "                   Low                              371  \n",
       "sometimes          High                             465  \n",
       "                   Low                              499  \n",
       "\n",
       "[6 rows x 27 columns]"
      ]
     },
     "execution_count": 5,
     "metadata": {},
     "output_type": "execute_result"
    }
   ],
   "source": [
    "response.count()"
   ]
  },
  {
   "cell_type": "code",
   "execution_count": 6,
   "metadata": {},
   "outputs": [
    {
     "data": {
      "text/plain": [
       "all the time        7869\n",
       "sometimes            964\n",
       "most of the time     658\n",
       "Name: host_response_rate, dtype: int64"
      ]
     },
     "execution_count": 6,
     "metadata": {},
     "output_type": "execute_result"
    }
   ],
   "source": [
    "airbnbDF['host_response_rate'].value_counts()"
   ]
  },
  {
   "cell_type": "code",
   "execution_count": 11,
   "metadata": {},
   "outputs": [
    {
     "data": {
      "text/plain": [
       "<matplotlib.legend.Legend at 0x233a2357198>"
      ]
     },
     "execution_count": 11,
     "metadata": {},
     "output_type": "execute_result"
    },
    {
     "data": {
      "image/png": "[encoded data removed]",
      "text/plain": [
       "<Figure size 432x288 with 1 Axes>"
      ]
     },
     "metadata": {},
     "output_type": "display_data"
    }
   ],
   "source": [
    "rate=['all the time','most of the time','sometimes']\n",
    "high=[5848,287,465]\n",
    "low=[2021,371,499]\n",
    "plt.bar(rate, high, label='High Rating')\n",
    "plt.bar(rate, low, bottom=high, label='Low Rating')\n",
    "plt.xlabel('host_response_rate')\n",
    "plt.ylabel('Frequency')\n",
    "plt.legend()"
   ]
  },
  {
   "cell_type": "code",
   "execution_count": 12,
   "metadata": {},
   "outputs": [
    {
     "data": {
      "text/plain": [
       "numpy.int64"
      ]
     },
     "execution_count": 12,
     "metadata": {},
     "output_type": "execute_result"
    }
   ],
   "source": [
    "type(airbnbDF['host_total_listings_count'][0])"
   ]
  },
  {
   "cell_type": "code",
   "execution_count": 13,
   "metadata": {},
   "outputs": [
    {
     "data": {
      "text/plain": [
       "True"
      ]
     },
     "execution_count": 13,
     "metadata": {},
     "output_type": "execute_result"
    }
   ],
   "source": [
    "airbnbDF['host_total_listings_count'][0]<=8.5"
   ]
  },
  {
   "cell_type": "code",
   "execution_count": 14,
   "metadata": {},
   "outputs": [],
   "source": [
    "airbnbDF['listing_count_cat']='no'\n",
    "airbnbDF['listing_count_cat'] = np.where(airbnbDF.host_total_listings_count <=8.5, \"less\", \"more\")"
   ]
  },
  {
   "cell_type": "code",
   "execution_count": 15,
   "metadata": {},
   "outputs": [
    {
     "data": {
      "text/html": [
       "<div>\n",
       "<style scoped>\n",
       "    .dataframe tbody tr th:only-of-type {\n",
       "        vertical-align: middle;\n",
       "    }\n",
       "\n",
       "    .dataframe tbody tr th {\n",
       "        vertical-align: top;\n",
       "    }\n",
       "\n",
       "    .dataframe thead th {\n",
       "        text-align: right;\n",
       "    }\n",
       "</style>\n",
       "<table border=\"1\" class=\"dataframe\">\n",
       "  <thead>\n",
       "    <tr style=\"text-align: right;\">\n",
       "      <th></th>\n",
       "      <th>host_response_time</th>\n",
       "      <th>host_response_rate</th>\n",
       "      <th>host_total_listings_count</th>\n",
       "      <th>zipcode</th>\n",
       "      <th>property_type</th>\n",
       "      <th>room_type</th>\n",
       "      <th>accommodates</th>\n",
       "      <th>bathrooms</th>\n",
       "      <th>bedrooms</th>\n",
       "      <th>beds</th>\n",
       "      <th>...</th>\n",
       "      <th>availability_365</th>\n",
       "      <th>number_of_reviews</th>\n",
       "      <th>review_scores_rating</th>\n",
       "      <th>instant_bookable</th>\n",
       "      <th>cancellation_policy</th>\n",
       "      <th>reviews_per_month</th>\n",
       "      <th>host_tenure</th>\n",
       "      <th>host_verifications_cnt</th>\n",
       "      <th>amentities_cnt</th>\n",
       "      <th>listing_count_cat</th>\n",
       "    </tr>\n",
       "  </thead>\n",
       "  <tbody>\n",
       "    <tr>\n",
       "      <th>0</th>\n",
       "      <td>within an hour</td>\n",
       "      <td>all the time</td>\n",
       "      <td>1</td>\n",
       "      <td>92104.0</td>\n",
       "      <td>House</td>\n",
       "      <td>Entire home/apt</td>\n",
       "      <td>6</td>\n",
       "      <td>2.0</td>\n",
       "      <td>3.0</td>\n",
       "      <td>4.0</td>\n",
       "      <td>...</td>\n",
       "      <td>0.04</td>\n",
       "      <td>148</td>\n",
       "      <td>High</td>\n",
       "      <td>t</td>\n",
       "      <td>strict_14_with_grace_period</td>\n",
       "      <td>1.18</td>\n",
       "      <td>more than 5 years</td>\n",
       "      <td>9</td>\n",
       "      <td>35</td>\n",
       "      <td>less</td>\n",
       "    </tr>\n",
       "    <tr>\n",
       "      <th>1</th>\n",
       "      <td>within a day</td>\n",
       "      <td>sometimes</td>\n",
       "      <td>1</td>\n",
       "      <td>92107.0</td>\n",
       "      <td>Guesthouse</td>\n",
       "      <td>Entire home/apt</td>\n",
       "      <td>2</td>\n",
       "      <td>1.0</td>\n",
       "      <td>0.0</td>\n",
       "      <td>1.0</td>\n",
       "      <td>...</td>\n",
       "      <td>0.00</td>\n",
       "      <td>178</td>\n",
       "      <td>Low</td>\n",
       "      <td>f</td>\n",
       "      <td>strict_14_with_grace_period</td>\n",
       "      <td>1.58</td>\n",
       "      <td>more than 5 years</td>\n",
       "      <td>6</td>\n",
       "      <td>6</td>\n",
       "      <td>less</td>\n",
       "    </tr>\n",
       "    <tr>\n",
       "      <th>2</th>\n",
       "      <td>within an hour</td>\n",
       "      <td>all the time</td>\n",
       "      <td>1</td>\n",
       "      <td>92104.0</td>\n",
       "      <td>Other</td>\n",
       "      <td>Entire home/apt</td>\n",
       "      <td>2</td>\n",
       "      <td>1.0</td>\n",
       "      <td>1.0</td>\n",
       "      <td>1.0</td>\n",
       "      <td>...</td>\n",
       "      <td>0.75</td>\n",
       "      <td>334</td>\n",
       "      <td>High</td>\n",
       "      <td>f</td>\n",
       "      <td>strict_14_with_grace_period</td>\n",
       "      <td>3.33</td>\n",
       "      <td>more than 5 years</td>\n",
       "      <td>7</td>\n",
       "      <td>32</td>\n",
       "      <td>less</td>\n",
       "    </tr>\n",
       "    <tr>\n",
       "      <th>3</th>\n",
       "      <td>within an hour</td>\n",
       "      <td>all the time</td>\n",
       "      <td>1</td>\n",
       "      <td>92107.0</td>\n",
       "      <td>House</td>\n",
       "      <td>Entire home/apt</td>\n",
       "      <td>2</td>\n",
       "      <td>1.0</td>\n",
       "      <td>1.0</td>\n",
       "      <td>1.0</td>\n",
       "      <td>...</td>\n",
       "      <td>0.99</td>\n",
       "      <td>6</td>\n",
       "      <td>Low</td>\n",
       "      <td>f</td>\n",
       "      <td>moderate</td>\n",
       "      <td>0.06</td>\n",
       "      <td>more than 5 years</td>\n",
       "      <td>3</td>\n",
       "      <td>6</td>\n",
       "      <td>less</td>\n",
       "    </tr>\n",
       "    <tr>\n",
       "      <th>4</th>\n",
       "      <td>within an hour</td>\n",
       "      <td>all the time</td>\n",
       "      <td>4</td>\n",
       "      <td>92037.0</td>\n",
       "      <td>House</td>\n",
       "      <td>Private room</td>\n",
       "      <td>2</td>\n",
       "      <td>1.0</td>\n",
       "      <td>1.0</td>\n",
       "      <td>1.0</td>\n",
       "      <td>...</td>\n",
       "      <td>0.80</td>\n",
       "      <td>172</td>\n",
       "      <td>High</td>\n",
       "      <td>f</td>\n",
       "      <td>flexible</td>\n",
       "      <td>1.82</td>\n",
       "      <td>more than 5 years</td>\n",
       "      <td>4</td>\n",
       "      <td>38</td>\n",
       "      <td>less</td>\n",
       "    </tr>\n",
       "  </tbody>\n",
       "</table>\n",
       "<p>5 rows × 30 columns</p>\n",
       "</div>"
      ],
      "text/plain": [
       "  host_response_time host_response_rate  host_total_listings_count  zipcode  \\\n",
       "0     within an hour       all the time                          1  92104.0   \n",
       "1       within a day          sometimes                          1  92107.0   \n",
       "2     within an hour       all the time                          1  92104.0   \n",
       "3     within an hour       all the time                          1  92107.0   \n",
       "4     within an hour       all the time                          4  92037.0   \n",
       "\n",
       "  property_type        room_type  accommodates  bathrooms  bedrooms  beds  \\\n",
       "0         House  Entire home/apt             6        2.0       3.0   4.0   \n",
       "1    Guesthouse  Entire home/apt             2        1.0       0.0   1.0   \n",
       "2         Other  Entire home/apt             2        1.0       1.0   1.0   \n",
       "3         House  Entire home/apt             2        1.0       1.0   1.0   \n",
       "4         House     Private room             2        1.0       1.0   1.0   \n",
       "\n",
       "         ...         availability_365  number_of_reviews  \\\n",
       "0        ...                     0.04                148   \n",
       "1        ...                     0.00                178   \n",
       "2        ...                     0.75                334   \n",
       "3        ...                     0.99                  6   \n",
       "4        ...                     0.80                172   \n",
       "\n",
       "   review_scores_rating  instant_bookable          cancellation_policy  \\\n",
       "0                  High                 t  strict_14_with_grace_period   \n",
       "1                   Low                 f  strict_14_with_grace_period   \n",
       "2                  High                 f  strict_14_with_grace_period   \n",
       "3                   Low                 f                     moderate   \n",
       "4                  High                 f                     flexible   \n",
       "\n",
       "   reviews_per_month        host_tenure  host_verifications_cnt  \\\n",
       "0               1.18  more than 5 years                       9   \n",
       "1               1.58  more than 5 years                       6   \n",
       "2               3.33  more than 5 years                       7   \n",
       "3               0.06  more than 5 years                       3   \n",
       "4               1.82  more than 5 years                       4   \n",
       "\n",
       "   amentities_cnt  listing_count_cat  \n",
       "0              35               less  \n",
       "1               6               less  \n",
       "2              32               less  \n",
       "3               6               less  \n",
       "4              38               less  \n",
       "\n",
       "[5 rows x 30 columns]"
      ]
     },
     "execution_count": 15,
     "metadata": {},
     "output_type": "execute_result"
    }
   ],
   "source": [
    "airbnbDF.head()"
   ]
  },
  {
   "cell_type": "code",
   "execution_count": 17,
   "metadata": {},
   "outputs": [],
   "source": [
    "listingcount=airbnbDF.groupby(by=['listing_count_cat','review_scores_rating'])"
   ]
  },
  {
   "cell_type": "code",
   "execution_count": 18,
   "metadata": {},
   "outputs": [
    {
     "data": {
      "text/html": [
       "<div>\n",
       "<style scoped>\n",
       "    .dataframe tbody tr th:only-of-type {\n",
       "        vertical-align: middle;\n",
       "    }\n",
       "\n",
       "    .dataframe tbody tr th {\n",
       "        vertical-align: top;\n",
       "    }\n",
       "\n",
       "    .dataframe thead th {\n",
       "        text-align: right;\n",
       "    }\n",
       "</style>\n",
       "<table border=\"1\" class=\"dataframe\">\n",
       "  <thead>\n",
       "    <tr style=\"text-align: right;\">\n",
       "      <th></th>\n",
       "      <th></th>\n",
       "      <th>host_response_time</th>\n",
       "      <th>host_response_rate</th>\n",
       "      <th>host_total_listings_count</th>\n",
       "      <th>zipcode</th>\n",
       "      <th>property_type</th>\n",
       "      <th>room_type</th>\n",
       "      <th>accommodates</th>\n",
       "      <th>bathrooms</th>\n",
       "      <th>bedrooms</th>\n",
       "      <th>beds</th>\n",
       "      <th>...</th>\n",
       "      <th>availability_60</th>\n",
       "      <th>availability_90</th>\n",
       "      <th>availability_365</th>\n",
       "      <th>number_of_reviews</th>\n",
       "      <th>instant_bookable</th>\n",
       "      <th>cancellation_policy</th>\n",
       "      <th>reviews_per_month</th>\n",
       "      <th>host_tenure</th>\n",
       "      <th>host_verifications_cnt</th>\n",
       "      <th>amentities_cnt</th>\n",
       "    </tr>\n",
       "    <tr>\n",
       "      <th>listing_count_cat</th>\n",
       "      <th>review_scores_rating</th>\n",
       "      <th></th>\n",
       "      <th></th>\n",
       "      <th></th>\n",
       "      <th></th>\n",
       "      <th></th>\n",
       "      <th></th>\n",
       "      <th></th>\n",
       "      <th></th>\n",
       "      <th></th>\n",
       "      <th></th>\n",
       "      <th></th>\n",
       "      <th></th>\n",
       "      <th></th>\n",
       "      <th></th>\n",
       "      <th></th>\n",
       "      <th></th>\n",
       "      <th></th>\n",
       "      <th></th>\n",
       "      <th></th>\n",
       "      <th></th>\n",
       "      <th></th>\n",
       "    </tr>\n",
       "  </thead>\n",
       "  <tbody>\n",
       "    <tr>\n",
       "      <th rowspan=\"2\" valign=\"top\">less</th>\n",
       "      <th>High</th>\n",
       "      <td>5527</td>\n",
       "      <td>5504</td>\n",
       "      <td>5527</td>\n",
       "      <td>5451</td>\n",
       "      <td>5527</td>\n",
       "      <td>5527</td>\n",
       "      <td>5527</td>\n",
       "      <td>5526</td>\n",
       "      <td>5525</td>\n",
       "      <td>5524</td>\n",
       "      <td>...</td>\n",
       "      <td>5527</td>\n",
       "      <td>5527</td>\n",
       "      <td>5527</td>\n",
       "      <td>5527</td>\n",
       "      <td>5527</td>\n",
       "      <td>5527</td>\n",
       "      <td>5527</td>\n",
       "      <td>5527</td>\n",
       "      <td>5527</td>\n",
       "      <td>5527</td>\n",
       "    </tr>\n",
       "    <tr>\n",
       "      <th>Low</th>\n",
       "      <td>1886</td>\n",
       "      <td>1873</td>\n",
       "      <td>1886</td>\n",
       "      <td>1865</td>\n",
       "      <td>1886</td>\n",
       "      <td>1886</td>\n",
       "      <td>1886</td>\n",
       "      <td>1886</td>\n",
       "      <td>1886</td>\n",
       "      <td>1886</td>\n",
       "      <td>...</td>\n",
       "      <td>1886</td>\n",
       "      <td>1886</td>\n",
       "      <td>1886</td>\n",
       "      <td>1886</td>\n",
       "      <td>1886</td>\n",
       "      <td>1886</td>\n",
       "      <td>1886</td>\n",
       "      <td>1886</td>\n",
       "      <td>1886</td>\n",
       "      <td>1886</td>\n",
       "    </tr>\n",
       "    <tr>\n",
       "      <th rowspan=\"2\" valign=\"top\">more</th>\n",
       "      <th>High</th>\n",
       "      <td>1099</td>\n",
       "      <td>1096</td>\n",
       "      <td>1099</td>\n",
       "      <td>1098</td>\n",
       "      <td>1099</td>\n",
       "      <td>1099</td>\n",
       "      <td>1099</td>\n",
       "      <td>1098</td>\n",
       "      <td>1098</td>\n",
       "      <td>1099</td>\n",
       "      <td>...</td>\n",
       "      <td>1099</td>\n",
       "      <td>1099</td>\n",
       "      <td>1099</td>\n",
       "      <td>1099</td>\n",
       "      <td>1099</td>\n",
       "      <td>1099</td>\n",
       "      <td>1099</td>\n",
       "      <td>1099</td>\n",
       "      <td>1099</td>\n",
       "      <td>1099</td>\n",
       "    </tr>\n",
       "    <tr>\n",
       "      <th>Low</th>\n",
       "      <td>1022</td>\n",
       "      <td>1018</td>\n",
       "      <td>1022</td>\n",
       "      <td>1021</td>\n",
       "      <td>1022</td>\n",
       "      <td>1022</td>\n",
       "      <td>1022</td>\n",
       "      <td>1022</td>\n",
       "      <td>1021</td>\n",
       "      <td>1022</td>\n",
       "      <td>...</td>\n",
       "      <td>1022</td>\n",
       "      <td>1022</td>\n",
       "      <td>1022</td>\n",
       "      <td>1022</td>\n",
       "      <td>1022</td>\n",
       "      <td>1022</td>\n",
       "      <td>1022</td>\n",
       "      <td>1022</td>\n",
       "      <td>1022</td>\n",
       "      <td>1022</td>\n",
       "    </tr>\n",
       "  </tbody>\n",
       "</table>\n",
       "<p>4 rows × 28 columns</p>\n",
       "</div>"
      ],
      "text/plain": [
       "                                        host_response_time  \\\n",
       "listing_count_cat review_scores_rating                       \n",
       "less              High                                5527   \n",
       "                  Low                                 1886   \n",
       "more              High                                1099   \n",
       "                  Low                                 1022   \n",
       "\n",
       "                                        host_response_rate  \\\n",
       "listing_count_cat review_scores_rating                       \n",
       "less              High                                5504   \n",
       "                  Low                                 1873   \n",
       "more              High                                1096   \n",
       "                  Low                                 1018   \n",
       "\n",
       "                                        host_total_listings_count  zipcode  \\\n",
       "listing_count_cat review_scores_rating                                       \n",
       "less              High                                       5527     5451   \n",
       "                  Low                                        1886     1865   \n",
       "more              High                                       1099     1098   \n",
       "                  Low                                        1022     1021   \n",
       "\n",
       "                                        property_type  room_type  \\\n",
       "listing_count_cat review_scores_rating                             \n",
       "less              High                           5527       5527   \n",
       "                  Low                            1886       1886   \n",
       "more              High                           1099       1099   \n",
       "                  Low                            1022       1022   \n",
       "\n",
       "                                        accommodates  bathrooms  bedrooms  \\\n",
       "listing_count_cat review_scores_rating                                      \n",
       "less              High                          5527       5526      5525   \n",
       "                  Low                           1886       1886      1886   \n",
       "more              High                          1099       1098      1098   \n",
       "                  Low                           1022       1022      1021   \n",
       "\n",
       "                                        beds       ...        availability_60  \\\n",
       "listing_count_cat review_scores_rating             ...                          \n",
       "less              High                  5524       ...                   5527   \n",
       "                  Low                   1886       ...                   1886   \n",
       "more              High                  1099       ...                   1099   \n",
       "                  Low                   1022       ...                   1022   \n",
       "\n",
       "                                        availability_90  availability_365  \\\n",
       "listing_count_cat review_scores_rating                                      \n",
       "less              High                             5527              5527   \n",
       "                  Low                              1886              1886   \n",
       "more              High                             1099              1099   \n",
       "                  Low                              1022              1022   \n",
       "\n",
       "                                        number_of_reviews  instant_bookable  \\\n",
       "listing_count_cat review_scores_rating                                        \n",
       "less              High                               5527              5527   \n",
       "                  Low                                1886              1886   \n",
       "more              High                               1099              1099   \n",
       "                  Low                                1022              1022   \n",
       "\n",
       "                                        cancellation_policy  \\\n",
       "listing_count_cat review_scores_rating                        \n",
       "less              High                                 5527   \n",
       "                  Low                                  1886   \n",
       "more              High                                 1099   \n",
       "                  Low                                  1022   \n",
       "\n",
       "                                        reviews_per_month  host_tenure  \\\n",
       "listing_count_cat review_scores_rating                                   \n",
       "less              High                               5527         5527   \n",
       "                  Low                                1886         1886   \n",
       "more              High                               1099         1099   \n",
       "                  Low                                1022         1022   \n",
       "\n",
       "                                        host_verifications_cnt  amentities_cnt  \n",
       "listing_count_cat review_scores_rating                                          \n",
       "less              High                                    5527            5527  \n",
       "                  Low                                     1886            1886  \n",
       "more              High                                    1099            1099  \n",
       "                  Low                                     1022            1022  \n",
       "\n",
       "[4 rows x 28 columns]"
      ]
     },
     "execution_count": 18,
     "metadata": {},
     "output_type": "execute_result"
    }
   ],
   "source": [
    "listingcount.count()"
   ]
  },
  {
   "cell_type": "code",
   "execution_count": 19,
   "metadata": {},
   "outputs": [
    {
     "data": {
      "text/plain": [
       "<matplotlib.legend.Legend at 0x233a2485c50>"
      ]
     },
     "execution_count": 19,
     "metadata": {},
     "output_type": "execute_result"
    },
    {
     "data": {
      "image/png": "[encoded data removed]",
      "text/plain": [
       "<Figure size 432x288 with 1 Axes>"
      ]
     },
     "metadata": {},
     "output_type": "display_data"
    }
   ],
   "source": [
    "listingcount=['less(count<=8.5)','more(count>8.5)']\n",
    "high=[5527,1099]\n",
    "low=[1886,1022]\n",
    "plt.bar(listingcount,high,label='High Rating')\n",
    "plt.bar(listingcount, low, bottom=high,label='Low Rating')\n",
    "plt.xlabel('host_total_listings_count')\n",
    "plt.ylabel('Frequency')\n",
    "plt.legend()"
   ]
  },
  {
   "cell_type": "code",
   "execution_count": 20,
   "metadata": {},
   "outputs": [
    {
     "data": {
      "text/plain": [
       "within an hour        7684\n",
       "within a few hours    1013\n",
       "within a day           777\n",
       "a few days or more      54\n",
       "None                     6\n",
       "Name: host_response_time, dtype: int64"
      ]
     },
     "execution_count": 20,
     "metadata": {},
     "output_type": "execute_result"
    }
   ],
   "source": [
    "airbnbDF['host_response_time'].value_counts()"
   ]
  },
  {
   "cell_type": "code",
   "execution_count": 27,
   "metadata": {},
   "outputs": [
    {
     "data": {
      "text/plain": [
       "availability_365                                 0.04\n",
       "number_of_reviews                                 148\n",
       "review_scores_rating                             High\n",
       "instant_bookable                                    t\n",
       "cancellation_policy       strict_14_with_grace_period\n",
       "reviews_per_month                                1.18\n",
       "host_tenure                         more than 5 years\n",
       "host_verifications_cnt                              9\n",
       "Name: 0, dtype: object"
      ]
     },
     "execution_count": 27,
     "metadata": {},
     "output_type": "execute_result"
    }
   ],
   "source": [
    "airbnbDF.iloc[0,20:28]"
   ]
  },
  {
   "cell_type": "code",
   "execution_count": 2,
   "metadata": {},
   "outputs": [
    {
     "data": {
      "image/png": "[encoded data removed]",
      "text/plain": [
       "<Figure size 432x288 with 1 Axes>"
      ]
     },
     "metadata": {},
     "output_type": "display_data"
    }
   ],
   "source": [
    "# distribution of rating\n",
    "output=pd.read_csv('output.csv')\n",
    "plt.hist(output['review_scores_rating'])\n",
    "plt.title(\"Distribution of Rating\")\n",
    "plt.xlabel('Rating Score')\n",
    "plt.ylabel('Frequency')\n",
    "# plt.yticks(range(0,8500,500))\n",
    "plt.show()"
   ]
  },
  {
   "cell_type": "code",
   "execution_count": 40,
   "metadata": {},
   "outputs": [
    {
     "data": {
      "text/html": [
       "<div>\n",
       "<style scoped>\n",
       "    .dataframe tbody tr th:only-of-type {\n",
       "        vertical-align: middle;\n",
       "    }\n",
       "\n",
       "    .dataframe tbody tr th {\n",
       "        vertical-align: top;\n",
       "    }\n",
       "\n",
       "    .dataframe thead th {\n",
       "        text-align: right;\n",
       "    }\n",
       "</style>\n",
       "<table border=\"1\" class=\"dataframe\">\n",
       "  <thead>\n",
       "    <tr style=\"text-align: right;\">\n",
       "      <th></th>\n",
       "      <th>Unnamed: 0</th>\n",
       "      <th>id</th>\n",
       "      <th>host_since</th>\n",
       "      <th>host_response_time</th>\n",
       "      <th>host_response_rate</th>\n",
       "      <th>host_is_superhost</th>\n",
       "      <th>host_total_listings_count</th>\n",
       "      <th>host_verifications</th>\n",
       "      <th>host_has_profile_pic</th>\n",
       "      <th>host_identity_verified</th>\n",
       "      <th>...</th>\n",
       "      <th>review_scores_checkin</th>\n",
       "      <th>review_scores_communication</th>\n",
       "      <th>review_scores_location</th>\n",
       "      <th>review_scores_value</th>\n",
       "      <th>instant_bookable</th>\n",
       "      <th>cancellation_policy</th>\n",
       "      <th>reviews_per_month</th>\n",
       "      <th>host_tenure</th>\n",
       "      <th>host_verifications_cnt</th>\n",
       "      <th>amentities_cnt</th>\n",
       "    </tr>\n",
       "  </thead>\n",
       "  <tbody>\n",
       "    <tr>\n",
       "      <th>0</th>\n",
       "      <td>0</td>\n",
       "      <td>6.0</td>\n",
       "      <td>2008-03-03</td>\n",
       "      <td>within an hour</td>\n",
       "      <td>all the time</td>\n",
       "      <td>t</td>\n",
       "      <td>1.0</td>\n",
       "      <td>['email', 'phone', 'facebook', 'reviews', 'off...</td>\n",
       "      <td>t</td>\n",
       "      <td>f</td>\n",
       "      <td>...</td>\n",
       "      <td>10.0</td>\n",
       "      <td>10.0</td>\n",
       "      <td>10.0</td>\n",
       "      <td>10.0</td>\n",
       "      <td>t</td>\n",
       "      <td>strict_14_with_grace_period</td>\n",
       "      <td>1.18</td>\n",
       "      <td>more than 5 years</td>\n",
       "      <td>9</td>\n",
       "      <td>35</td>\n",
       "    </tr>\n",
       "    <tr>\n",
       "      <th>1</th>\n",
       "      <td>2</td>\n",
       "      <td>8095.0</td>\n",
       "      <td>2008-04-15</td>\n",
       "      <td>within a day</td>\n",
       "      <td>sometimes</td>\n",
       "      <td>f</td>\n",
       "      <td>1.0</td>\n",
       "      <td>['email', 'phone', 'facebook', 'reviews', 'jum...</td>\n",
       "      <td>t</td>\n",
       "      <td>t</td>\n",
       "      <td>...</td>\n",
       "      <td>10.0</td>\n",
       "      <td>9.0</td>\n",
       "      <td>9.0</td>\n",
       "      <td>9.0</td>\n",
       "      <td>f</td>\n",
       "      <td>strict_14_with_grace_period</td>\n",
       "      <td>1.58</td>\n",
       "      <td>more than 5 years</td>\n",
       "      <td>6</td>\n",
       "      <td>6</td>\n",
       "    </tr>\n",
       "    <tr>\n",
       "      <th>2</th>\n",
       "      <td>3</td>\n",
       "      <td>39516.0</td>\n",
       "      <td>2010-07-17</td>\n",
       "      <td>within an hour</td>\n",
       "      <td>all the time</td>\n",
       "      <td>t</td>\n",
       "      <td>1.0</td>\n",
       "      <td>['email', 'phone', 'reviews', 'jumio', 'offlin...</td>\n",
       "      <td>t</td>\n",
       "      <td>t</td>\n",
       "      <td>...</td>\n",
       "      <td>10.0</td>\n",
       "      <td>10.0</td>\n",
       "      <td>10.0</td>\n",
       "      <td>10.0</td>\n",
       "      <td>f</td>\n",
       "      <td>strict_14_with_grace_period</td>\n",
       "      <td>3.33</td>\n",
       "      <td>more than 5 years</td>\n",
       "      <td>7</td>\n",
       "      <td>32</td>\n",
       "    </tr>\n",
       "    <tr>\n",
       "      <th>3</th>\n",
       "      <td>4</td>\n",
       "      <td>45429.0</td>\n",
       "      <td>2010-08-10</td>\n",
       "      <td>within an hour</td>\n",
       "      <td>all the time</td>\n",
       "      <td>f</td>\n",
       "      <td>1.0</td>\n",
       "      <td>['email', 'phone', 'reviews']</td>\n",
       "      <td>t</td>\n",
       "      <td>f</td>\n",
       "      <td>...</td>\n",
       "      <td>10.0</td>\n",
       "      <td>10.0</td>\n",
       "      <td>9.0</td>\n",
       "      <td>9.0</td>\n",
       "      <td>f</td>\n",
       "      <td>moderate</td>\n",
       "      <td>0.06</td>\n",
       "      <td>more than 5 years</td>\n",
       "      <td>3</td>\n",
       "      <td>6</td>\n",
       "    </tr>\n",
       "    <tr>\n",
       "      <th>4</th>\n",
       "      <td>5</td>\n",
       "      <td>54001.0</td>\n",
       "      <td>2010-10-04</td>\n",
       "      <td>within an hour</td>\n",
       "      <td>all the time</td>\n",
       "      <td>t</td>\n",
       "      <td>4.0</td>\n",
       "      <td>['email', 'phone', 'reviews', 'kba']</td>\n",
       "      <td>t</td>\n",
       "      <td>t</td>\n",
       "      <td>...</td>\n",
       "      <td>10.0</td>\n",
       "      <td>10.0</td>\n",
       "      <td>10.0</td>\n",
       "      <td>10.0</td>\n",
       "      <td>f</td>\n",
       "      <td>flexible</td>\n",
       "      <td>1.82</td>\n",
       "      <td>more than 5 years</td>\n",
       "      <td>4</td>\n",
       "      <td>38</td>\n",
       "    </tr>\n",
       "  </tbody>\n",
       "</table>\n",
       "<p>5 rows × 47 columns</p>\n",
       "</div>"
      ],
      "text/plain": [
       "   Unnamed: 0       id  host_since host_response_time host_response_rate  \\\n",
       "0           0      6.0  2008-03-03     within an hour       all the time   \n",
       "1           2   8095.0  2008-04-15       within a day          sometimes   \n",
       "2           3  39516.0  2010-07-17     within an hour       all the time   \n",
       "3           4  45429.0  2010-08-10     within an hour       all the time   \n",
       "4           5  54001.0  2010-10-04     within an hour       all the time   \n",
       "\n",
       "  host_is_superhost  host_total_listings_count  \\\n",
       "0                 t                        1.0   \n",
       "1                 f                        1.0   \n",
       "2                 t                        1.0   \n",
       "3                 f                        1.0   \n",
       "4                 t                        4.0   \n",
       "\n",
       "                                  host_verifications host_has_profile_pic  \\\n",
       "0  ['email', 'phone', 'facebook', 'reviews', 'off...                    t   \n",
       "1  ['email', 'phone', 'facebook', 'reviews', 'jum...                    t   \n",
       "2  ['email', 'phone', 'reviews', 'jumio', 'offlin...                    t   \n",
       "3                      ['email', 'phone', 'reviews']                    t   \n",
       "4               ['email', 'phone', 'reviews', 'kba']                    t   \n",
       "\n",
       "  host_identity_verified       ...       review_scores_checkin  \\\n",
       "0                      f       ...                        10.0   \n",
       "1                      t       ...                        10.0   \n",
       "2                      t       ...                        10.0   \n",
       "3                      f       ...                        10.0   \n",
       "4                      t       ...                        10.0   \n",
       "\n",
       "   review_scores_communication  review_scores_location  review_scores_value  \\\n",
       "0                         10.0                    10.0                 10.0   \n",
       "1                          9.0                     9.0                  9.0   \n",
       "2                         10.0                    10.0                 10.0   \n",
       "3                         10.0                     9.0                  9.0   \n",
       "4                         10.0                    10.0                 10.0   \n",
       "\n",
       "  instant_bookable          cancellation_policy  reviews_per_month  \\\n",
       "0                t  strict_14_with_grace_period               1.18   \n",
       "1                f  strict_14_with_grace_period               1.58   \n",
       "2                f  strict_14_with_grace_period               3.33   \n",
       "3                f                     moderate               0.06   \n",
       "4                f                     flexible               1.82   \n",
       "\n",
       "         host_tenure  host_verifications_cnt  amentities_cnt  \n",
       "0  more than 5 years                       9              35  \n",
       "1  more than 5 years                       6               6  \n",
       "2  more than 5 years                       7              32  \n",
       "3  more than 5 years                       3               6  \n",
       "4  more than 5 years                       4              38  \n",
       "\n",
       "[5 rows x 47 columns]"
      ]
     },
     "execution_count": 40,
     "metadata": {},
     "output_type": "execute_result"
    }
   ],
   "source": [
    "output.head()"
   ]
  },
  {
   "cell_type": "code",
   "execution_count": 46,
   "metadata": {},
   "outputs": [
    {
     "name": "stdout",
     "output_type": "stream",
     "text": [
      "<class 'pandas.core.frame.DataFrame'>\n",
      "RangeIndex: 9534 entries, 0 to 9533\n",
      "Data columns (total 47 columns):\n",
      "Unnamed: 0                     9534 non-null int64\n",
      "id                             9534 non-null float64\n",
      "host_since                     9534 non-null object\n",
      "host_response_time             9534 non-null object\n",
      "host_response_rate             9491 non-null object\n",
      "host_is_superhost              9534 non-null object\n",
      "host_total_listings_count      9534 non-null float64\n",
      "host_verifications             9534 non-null object\n",
      "host_has_profile_pic           9534 non-null object\n",
      "host_identity_verified         9534 non-null object\n",
      "neighbourhood_cleansed         9534 non-null object\n",
      "zipcode                        9435 non-null float64\n",
      "latitude                       9534 non-null float64\n",
      "longitude                      9534 non-null float64\n",
      "property_type                  9534 non-null object\n",
      "room_type                      9534 non-null object\n",
      "accommodates                   9534 non-null float64\n",
      "bathrooms                      9532 non-null float64\n",
      "bedrooms                       9530 non-null float64\n",
      "beds                           9531 non-null float64\n",
      "bed_type                       9534 non-null object\n",
      "amenities                      9534 non-null object\n",
      "price                          9534 non-null float64\n",
      "security_deposit               9534 non-null float64\n",
      "cleaning_fee                   9534 non-null float64\n",
      "guests_included                9534 non-null float64\n",
      "extra_people                   9534 non-null float64\n",
      "minimum_nights                 9534 non-null float64\n",
      "maximum_nights                 9534 non-null float64\n",
      "availability_30                9534 non-null float64\n",
      "availability_60                9534 non-null float64\n",
      "availability_90                9534 non-null float64\n",
      "availability_365               9534 non-null float64\n",
      "number_of_reviews              9534 non-null float64\n",
      "review_scores_rating           9534 non-null float64\n",
      "review_scores_accuracy         9528 non-null float64\n",
      "review_scores_cleanliness      9531 non-null float64\n",
      "review_scores_checkin          9517 non-null float64\n",
      "review_scores_communication    9526 non-null float64\n",
      "review_scores_location         9514 non-null float64\n",
      "review_scores_value            9512 non-null float64\n",
      "instant_bookable               9534 non-null object\n",
      "cancellation_policy            9534 non-null object\n",
      "reviews_per_month              9534 non-null float64\n",
      "host_tenure                    9534 non-null object\n",
      "host_verifications_cnt         9534 non-null int64\n",
      "amentities_cnt                 9534 non-null int64\n",
      "dtypes: float64(29), int64(3), object(15)\n",
      "memory usage: 3.4+ MB\n"
     ]
    }
   ],
   "source": [
    "# output.iloc[0,10:28]\n",
    "output.info()"
   ]
  },
  {
   "cell_type": "code",
   "execution_count": 138,
   "metadata": {},
   "outputs": [
    {
     "data": {
      "image/png": "[encoded data removed]",
      "text/plain": [
       "<Figure size 432x288 with 1 Axes>"
      ]
     },
     "metadata": {},
     "output_type": "display_data"
    }
   ],
   "source": [
    "plt.hist(output['price'],color=['green'])\n",
    "plt.title(\"Distribution of Price\")\n",
    "plt.xlabel('Price')\n",
    "plt.ylabel('Frequency')\n",
    "# plt.yticks(range(0,8500,500))\n",
    "plt.show()"
   ]
  },
  {
   "cell_type": "code",
   "execution_count": 44,
   "metadata": {},
   "outputs": [
    {
     "data": {
      "text/plain": [
       "6000.0"
      ]
     },
     "execution_count": 44,
     "metadata": {},
     "output_type": "execute_result"
    }
   ],
   "source": [
    "output['price'].max()"
   ]
  },
  {
   "cell_type": "code",
   "execution_count": 48,
   "metadata": {},
   "outputs": [
    {
     "data": {
      "text/plain": [
       "(9534, 47)"
      ]
     },
     "execution_count": 48,
     "metadata": {},
     "output_type": "execute_result"
    }
   ],
   "source": [
    "output.shape"
   ]
  },
  {
   "cell_type": "code",
   "execution_count": 53,
   "metadata": {},
   "outputs": [
    {
     "data": {
      "text/plain": [
       "25.0"
      ]
     },
     "execution_count": 53,
     "metadata": {},
     "output_type": "execute_result"
    }
   ],
   "source": [
    "output['bedrooms'].min()\n",
    "output['bedrooms'].max()"
   ]
  },
  {
   "cell_type": "code",
   "execution_count": 82,
   "metadata": {},
   "outputs": [
    {
     "name": "stderr",
     "output_type": "stream",
     "text": [
      "C:\\Users\\inner\\Anaconda3\\lib\\site-packages\\numpy\\lib\\function_base.py:780: RuntimeWarning: invalid value encountered in greater_equal\n",
      "  keep = (tmp_a >= first_edge)\n",
      "C:\\Users\\inner\\Anaconda3\\lib\\site-packages\\numpy\\lib\\function_base.py:781: RuntimeWarning: invalid value encountered in less_equal\n",
      "  keep &= (tmp_a <= last_edge)\n"
     ]
    },
    {
     "data": {
      "image/png": "[encoded data removed]",
      "text/plain": [
       "<Figure size 432x288 with 1 Axes>"
      ]
     },
     "metadata": {},
     "output_type": "display_data"
    }
   ],
   "source": [
    "plt.hist(output['bedrooms'],range=(0,10), bins=10,color='green')\n",
    "plt.title('bedrooms')\n",
    "plt.xticks(range(0,11,1))\n",
    "plt.show()"
   ]
  },
  {
   "cell_type": "code",
   "execution_count": 73,
   "metadata": {},
   "outputs": [
    {
     "data": {
      "text/plain": [
       "11.5"
      ]
     },
     "execution_count": 73,
     "metadata": {},
     "output_type": "execute_result"
    }
   ],
   "source": [
    "output['bathrooms'].min()\n",
    "output['bathrooms'].max()"
   ]
  },
  {
   "cell_type": "code",
   "execution_count": 83,
   "metadata": {},
   "outputs": [
    {
     "name": "stderr",
     "output_type": "stream",
     "text": [
      "C:\\Users\\inner\\Anaconda3\\lib\\site-packages\\numpy\\lib\\function_base.py:780: RuntimeWarning: invalid value encountered in greater_equal\n",
      "  keep = (tmp_a >= first_edge)\n",
      "C:\\Users\\inner\\Anaconda3\\lib\\site-packages\\numpy\\lib\\function_base.py:781: RuntimeWarning: invalid value encountered in less_equal\n",
      "  keep &= (tmp_a <= last_edge)\n"
     ]
    },
    {
     "data": {
      "image/png": "[encoded data removed]",
      "text/plain": [
       "<Figure size 432x288 with 1 Axes>"
      ]
     },
     "metadata": {},
     "output_type": "display_data"
    }
   ],
   "source": [
    "plt.hist(output['bathrooms'],range=(0,10), bins=10,color='green')\n",
    "plt.title('bathrooms')\n",
    "plt.xticks(range(0,11,1))\n",
    "plt.show()"
   ]
  },
  {
   "cell_type": "code",
   "execution_count": 65,
   "metadata": {},
   "outputs": [],
   "source": [
    "corr=output.corr()"
   ]
  },
  {
   "cell_type": "code",
   "execution_count": 66,
   "metadata": {},
   "outputs": [
    {
     "data": {
      "text/plain": [
       "price                          1.000000\n",
       "cleaning_fee                   0.665848\n",
       "bathrooms                      0.629563\n",
       "accommodates                   0.609316\n",
       "bedrooms                       0.604913\n",
       "beds                           0.546197\n",
       "security_deposit               0.408576\n",
       "guests_included                0.404232\n",
       "availability_365               0.184599\n",
       "availability_30                0.108441\n",
       "availability_60                0.089649\n",
       "latitude                       0.086492\n",
       "host_total_listings_count      0.080337\n",
       "availability_90                0.067226\n",
       "extra_people                   0.047283\n",
       "amentities_cnt                 0.032798\n",
       "review_scores_location         0.031307\n",
       "host_verifications_cnt         0.029239\n",
       "maximum_nights                 0.015368\n",
       "zipcode                       -0.003637\n",
       "review_scores_rating          -0.017630\n",
       "minimum_nights                -0.020817\n",
       "id                            -0.027410\n",
       "review_scores_cleanliness     -0.030124\n",
       "Unnamed: 0                    -0.038662\n",
       "review_scores_accuracy        -0.043596\n",
       "review_scores_checkin         -0.049538\n",
       "review_scores_communication   -0.054537\n",
       "review_scores_value           -0.112506\n",
       "number_of_reviews             -0.154352\n",
       "reviews_per_month             -0.205922\n",
       "longitude                     -0.290360\n",
       "Name: price, dtype: float64"
      ]
     },
     "execution_count": 66,
     "metadata": {},
     "output_type": "execute_result"
    }
   ],
   "source": [
    "corr['price'].sort_values(ascending = False)"
   ]
  },
  {
   "cell_type": "code",
   "execution_count": 69,
   "metadata": {},
   "outputs": [
    {
     "data": {
      "text/plain": [
       "review_scores_rating           1.000000\n",
       "review_scores_accuracy         0.740706\n",
       "review_scores_value            0.699379\n",
       "review_scores_cleanliness      0.674903\n",
       "review_scores_communication    0.616456\n",
       "review_scores_checkin          0.553636\n",
       "review_scores_location         0.438900\n",
       "amentities_cnt                 0.121301\n",
       "reviews_per_month              0.096418\n",
       "number_of_reviews              0.059050\n",
       "longitude                      0.057355\n",
       "extra_people                   0.028569\n",
       "minimum_nights                 0.023657\n",
       "latitude                       0.022845\n",
       "security_deposit               0.015789\n",
       "Unnamed: 0                     0.014678\n",
       "id                             0.012413\n",
       "zipcode                       -0.008284\n",
       "host_verifications_cnt        -0.010243\n",
       "bathrooms                     -0.011750\n",
       "price                         -0.017630\n",
       "availability_90               -0.023571\n",
       "maximum_nights                -0.024054\n",
       "availability_60               -0.024093\n",
       "availability_30               -0.026490\n",
       "bedrooms                      -0.028014\n",
       "guests_included               -0.029864\n",
       "availability_365              -0.045468\n",
       "beds                          -0.047627\n",
       "cleaning_fee                  -0.058211\n",
       "accommodates                  -0.061000\n",
       "host_total_listings_count     -0.092583\n",
       "Name: review_scores_rating, dtype: float64"
      ]
     },
     "execution_count": 69,
     "metadata": {},
     "output_type": "execute_result"
    }
   ],
   "source": [
    "corr['review_scores_rating'].sort_values(ascending = False)"
   ]
  },
  {
   "cell_type": "code",
   "execution_count": 96,
   "metadata": {},
   "outputs": [],
   "source": [
    "#plt.pie(airbnbDF['room_type'].value_count())"
   ]
  },
  {
   "cell_type": "code",
   "execution_count": 4,
   "metadata": {},
   "outputs": [],
   "source": [
    "response1=output.groupby(by=['host_response_rate'])"
   ]
  },
  {
   "cell_type": "code",
   "execution_count": 5,
   "metadata": {},
   "outputs": [
    {
     "data": {
      "text/plain": [
       "host_response_rate\n",
       "all the time        96.015250\n",
       "most of the time    92.127660\n",
       "sometimes           91.360996\n",
       "Name: review_scores_rating, dtype: float64"
      ]
     },
     "execution_count": 5,
     "metadata": {},
     "output_type": "execute_result"
    }
   ],
   "source": [
    "response1.mean()['review_scores_rating']"
   ]
  },
  {
   "cell_type": "code",
   "execution_count": 124,
   "metadata": {},
   "outputs": [],
   "source": [
    "allthetime=output[output['host_response_rate']=='all the time']\n",
    "allthetime.head()\n",
    "a=allthetime['review_scores_rating']"
   ]
  },
  {
   "cell_type": "code",
   "execution_count": 125,
   "metadata": {},
   "outputs": [
    {
     "data": {
      "text/plain": [
       "96.01524971406786"
      ]
     },
     "execution_count": 125,
     "metadata": {},
     "output_type": "execute_result"
    }
   ],
   "source": [
    "a.mean()"
   ]
  },
  {
   "cell_type": "code",
   "execution_count": 126,
   "metadata": {},
   "outputs": [
    {
     "data": {
      "text/plain": [
       "92.12765957446808"
      ]
     },
     "execution_count": 126,
     "metadata": {},
     "output_type": "execute_result"
    }
   ],
   "source": [
    "mostofthetime=output[output['host_response_rate']=='most of the time']\n",
    "mostofthetime.head()\n",
    "m=mostofthetime['review_scores_rating']\n",
    "m.mean()"
   ]
  },
  {
   "cell_type": "code",
   "execution_count": 127,
   "metadata": {},
   "outputs": [
    {
     "data": {
      "text/plain": [
       "91.3609958506224"
      ]
     },
     "execution_count": 127,
     "metadata": {},
     "output_type": "execute_result"
    }
   ],
   "source": [
    "sometimes=output[output['host_response_rate']=='sometimes']\n",
    "sometimes.head()\n",
    "s=sometimes['review_scores_rating']\n",
    "s.mean()"
   ]
  },
  {
   "cell_type": "code",
   "execution_count": 119,
   "metadata": {},
   "outputs": [],
   "source": [
    "# s=pd.DataFrame(s)\n",
    "# m=pd.DataFrame(m)\n",
    "# a=pd.DataFrame(a)"
   ]
  },
  {
   "cell_type": "code",
   "execution_count": 128,
   "metadata": {},
   "outputs": [
    {
     "data": {
      "text/plain": [
       "pandas.core.series.Series"
      ]
     },
     "execution_count": 128,
     "metadata": {},
     "output_type": "execute_result"
    }
   ],
   "source": [
    "type(s)\n",
    "type(a)"
   ]
  },
  {
   "cell_type": "code",
   "execution_count": 129,
   "metadata": {},
   "outputs": [
    {
     "data": {
      "text/plain": [
       "(7869,)"
      ]
     },
     "execution_count": 129,
     "metadata": {},
     "output_type": "execute_result"
    }
   ],
   "source": [
    "s.shape\n",
    "a.shape"
   ]
  },
  {
   "cell_type": "code",
   "execution_count": 7,
   "metadata": {},
   "outputs": [
    {
     "data": {
      "text/plain": [
       "Text(0,0.5,'Average Rating Score')"
      ]
     },
     "execution_count": 7,
     "metadata": {},
     "output_type": "execute_result"
    },
    {
     "data": {
      "image/png": "[encoded data removed]",
      "text/plain": [
       "<Figure size 432x288 with 1 Axes>"
      ]
     },
     "metadata": {},
     "output_type": "display_data"
    }
   ],
   "source": [
    "plt.plot(response1.mean()['review_scores_rating'],'rx')\n",
    "plt.xlabel('Host Response Rate')\n",
    "plt.ylabel('Average Rating Score')"
   ]
  },
  {
   "cell_type": "code",
   "execution_count": 140,
   "metadata": {},
   "outputs": [
    {
     "data": {
      "text/plain": [
       "(0, 2000)"
      ]
     },
     "execution_count": 140,
     "metadata": {},
     "output_type": "execute_result"
    },
    {
     "data": {
      "image/png": "[encoded data removed]",
      "text/plain": [
       "<Figure size 576x432 with 1 Axes>"
      ]
     },
     "metadata": {},
     "output_type": "display_data"
    }
   ],
   "source": [
    "sns.lmplot(data = airbnbDF, x = 'security_deposit', y = 'cleaning_fee')\n",
    "\n",
    "fig = plt.gcf()\n",
    "fig.set_size_inches( 8, 6)\n",
    "plt.xlim(0,500)\n",
    "plt.ylim(0,2000)"
   ]
  },
  {
   "cell_type": "code",
   "execution_count": 141,
   "metadata": {},
   "outputs": [
    {
     "ename": "AttributeError",
     "evalue": "'str' object has no attribute 'conjugate'",
     "output_type": "error",
     "traceback": [
      "\u001b[1;31m---------------------------------------------------------------------------\u001b[0m",
      "\u001b[1;31mAttributeError\u001b[0m                            Traceback (most recent call last)",
      "\u001b[1;32m<ipython-input-141-2f06052ba347>\u001b[0m in \u001b[0;36m<module>\u001b[1;34m()\u001b[0m\n\u001b[1;32m----> 1\u001b[1;33m \u001b[0msns\u001b[0m\u001b[1;33m.\u001b[0m\u001b[0mlmplot\u001b[0m\u001b[1;33m(\u001b[0m\u001b[0mdata\u001b[0m \u001b[1;33m=\u001b[0m \u001b[0mairbnbDF\u001b[0m\u001b[1;33m,\u001b[0m \u001b[0mx\u001b[0m \u001b[1;33m=\u001b[0m \u001b[1;34m'room_type'\u001b[0m\u001b[1;33m,\u001b[0m \u001b[0my\u001b[0m \u001b[1;33m=\u001b[0m \u001b[1;34m'price'\u001b[0m\u001b[1;33m)\u001b[0m\u001b[1;33m\u001b[0m\u001b[0m\n\u001b[0m\u001b[0;32m      2\u001b[0m \u001b[1;33m\u001b[0m\u001b[0m\n\u001b[0;32m      3\u001b[0m \u001b[0mfig\u001b[0m \u001b[1;33m=\u001b[0m \u001b[0mplt\u001b[0m\u001b[1;33m.\u001b[0m\u001b[0mgcf\u001b[0m\u001b[1;33m(\u001b[0m\u001b[1;33m)\u001b[0m\u001b[1;33m\u001b[0m\u001b[0m\n\u001b[0;32m      4\u001b[0m \u001b[0mfig\u001b[0m\u001b[1;33m.\u001b[0m\u001b[0mset_size_inches\u001b[0m\u001b[1;33m(\u001b[0m \u001b[1;36m8\u001b[0m\u001b[1;33m,\u001b[0m \u001b[1;36m6\u001b[0m\u001b[1;33m)\u001b[0m\u001b[1;33m\u001b[0m\u001b[0m\n\u001b[0;32m      5\u001b[0m \u001b[0mplt\u001b[0m\u001b[1;33m.\u001b[0m\u001b[0mxlim\u001b[0m\u001b[1;33m(\u001b[0m\u001b[1;36m0\u001b[0m\u001b[1;33m,\u001b[0m\u001b[1;36m500\u001b[0m\u001b[1;33m)\u001b[0m\u001b[1;33m\u001b[0m\u001b[0m\n",
      "\u001b[1;32m~\\Anaconda3\\lib\\site-packages\\seaborn\\regression.py\u001b[0m in \u001b[0;36mlmplot\u001b[1;34m(x, y, data, hue, col, row, palette, col_wrap, size, aspect, markers, sharex, sharey, hue_order, col_order, row_order, legend, legend_out, x_estimator, x_bins, x_ci, scatter, fit_reg, ci, n_boot, units, order, logistic, lowess, robust, logx, x_partial, y_partial, truncate, x_jitter, y_jitter, scatter_kws, line_kws)\u001b[0m\n\u001b[0;32m    588\u001b[0m         \u001b[0mscatter_kws\u001b[0m\u001b[1;33m=\u001b[0m\u001b[0mscatter_kws\u001b[0m\u001b[1;33m,\u001b[0m \u001b[0mline_kws\u001b[0m\u001b[1;33m=\u001b[0m\u001b[0mline_kws\u001b[0m\u001b[1;33m,\u001b[0m\u001b[1;33m\u001b[0m\u001b[0m\n\u001b[0;32m    589\u001b[0m         )\n\u001b[1;32m--> 590\u001b[1;33m     \u001b[0mfacets\u001b[0m\u001b[1;33m.\u001b[0m\u001b[0mmap_dataframe\u001b[0m\u001b[1;33m(\u001b[0m\u001b[0mregplot\u001b[0m\u001b[1;33m,\u001b[0m \u001b[0mx\u001b[0m\u001b[1;33m,\u001b[0m \u001b[0my\u001b[0m\u001b[1;33m,\u001b[0m \u001b[1;33m**\u001b[0m\u001b[0mregplot_kws\u001b[0m\u001b[1;33m)\u001b[0m\u001b[1;33m\u001b[0m\u001b[0m\n\u001b[0m\u001b[0;32m    591\u001b[0m \u001b[1;33m\u001b[0m\u001b[0m\n\u001b[0;32m    592\u001b[0m     \u001b[1;31m# Add a legend\u001b[0m\u001b[1;33m\u001b[0m\u001b[1;33m\u001b[0m\u001b[0m\n",
      "\u001b[1;32m~\\Anaconda3\\lib\\site-packages\\seaborn\\axisgrid.py\u001b[0m in \u001b[0;36mmap_dataframe\u001b[1;34m(self, func, *args, **kwargs)\u001b[0m\n\u001b[0;32m    807\u001b[0m \u001b[1;33m\u001b[0m\u001b[0m\n\u001b[0;32m    808\u001b[0m             \u001b[1;31m# Draw the plot\u001b[0m\u001b[1;33m\u001b[0m\u001b[1;33m\u001b[0m\u001b[0m\n\u001b[1;32m--> 809\u001b[1;33m             \u001b[0mself\u001b[0m\u001b[1;33m.\u001b[0m\u001b[0m_facet_plot\u001b[0m\u001b[1;33m(\u001b[0m\u001b[0mfunc\u001b[0m\u001b[1;33m,\u001b[0m \u001b[0max\u001b[0m\u001b[1;33m,\u001b[0m \u001b[0margs\u001b[0m\u001b[1;33m,\u001b[0m \u001b[0mkwargs\u001b[0m\u001b[1;33m)\u001b[0m\u001b[1;33m\u001b[0m\u001b[0m\n\u001b[0m\u001b[0;32m    810\u001b[0m \u001b[1;33m\u001b[0m\u001b[0m\n\u001b[0;32m    811\u001b[0m         \u001b[1;31m# Finalize the annotations and layout\u001b[0m\u001b[1;33m\u001b[0m\u001b[1;33m\u001b[0m\u001b[0m\n",
      "\u001b[1;32m~\\Anaconda3\\lib\\site-packages\\seaborn\\axisgrid.py\u001b[0m in \u001b[0;36m_facet_plot\u001b[1;34m(self, func, ax, plot_args, plot_kwargs)\u001b[0m\n\u001b[0;32m    825\u001b[0m \u001b[1;33m\u001b[0m\u001b[0m\n\u001b[0;32m    826\u001b[0m         \u001b[1;31m# Draw the plot\u001b[0m\u001b[1;33m\u001b[0m\u001b[1;33m\u001b[0m\u001b[0m\n\u001b[1;32m--> 827\u001b[1;33m         \u001b[0mfunc\u001b[0m\u001b[1;33m(\u001b[0m\u001b[1;33m*\u001b[0m\u001b[0mplot_args\u001b[0m\u001b[1;33m,\u001b[0m \u001b[1;33m**\u001b[0m\u001b[0mplot_kwargs\u001b[0m\u001b[1;33m)\u001b[0m\u001b[1;33m\u001b[0m\u001b[0m\n\u001b[0m\u001b[0;32m    828\u001b[0m \u001b[1;33m\u001b[0m\u001b[0m\n\u001b[0;32m    829\u001b[0m         \u001b[1;31m# Sort out the supporting information\u001b[0m\u001b[1;33m\u001b[0m\u001b[1;33m\u001b[0m\u001b[0m\n",
      "\u001b[1;32m~\\Anaconda3\\lib\\site-packages\\seaborn\\regression.py\u001b[0m in \u001b[0;36mregplot\u001b[1;34m(x, y, data, x_estimator, x_bins, x_ci, scatter, fit_reg, ci, n_boot, units, order, logistic, lowess, robust, logx, x_partial, y_partial, truncate, dropna, x_jitter, y_jitter, label, color, marker, scatter_kws, line_kws, ax)\u001b[0m\n\u001b[0;32m    788\u001b[0m     \u001b[0mscatter_kws\u001b[0m\u001b[1;33m[\u001b[0m\u001b[1;34m\"marker\"\u001b[0m\u001b[1;33m]\u001b[0m \u001b[1;33m=\u001b[0m \u001b[0mmarker\u001b[0m\u001b[1;33m\u001b[0m\u001b[0m\n\u001b[0;32m    789\u001b[0m     \u001b[0mline_kws\u001b[0m \u001b[1;33m=\u001b[0m \u001b[1;33m{\u001b[0m\u001b[1;33m}\u001b[0m \u001b[1;32mif\u001b[0m \u001b[0mline_kws\u001b[0m \u001b[1;32mis\u001b[0m \u001b[1;32mNone\u001b[0m \u001b[1;32melse\u001b[0m \u001b[0mcopy\u001b[0m\u001b[1;33m.\u001b[0m\u001b[0mcopy\u001b[0m\u001b[1;33m(\u001b[0m\u001b[0mline_kws\u001b[0m\u001b[1;33m)\u001b[0m\u001b[1;33m\u001b[0m\u001b[0m\n\u001b[1;32m--> 790\u001b[1;33m     \u001b[0mplotter\u001b[0m\u001b[1;33m.\u001b[0m\u001b[0mplot\u001b[0m\u001b[1;33m(\u001b[0m\u001b[0max\u001b[0m\u001b[1;33m,\u001b[0m \u001b[0mscatter_kws\u001b[0m\u001b[1;33m,\u001b[0m \u001b[0mline_kws\u001b[0m\u001b[1;33m)\u001b[0m\u001b[1;33m\u001b[0m\u001b[0m\n\u001b[0m\u001b[0;32m    791\u001b[0m     \u001b[1;32mreturn\u001b[0m \u001b[0max\u001b[0m\u001b[1;33m\u001b[0m\u001b[0m\n\u001b[0;32m    792\u001b[0m \u001b[1;33m\u001b[0m\u001b[0m\n",
      "\u001b[1;32m~\\Anaconda3\\lib\\site-packages\\seaborn\\regression.py\u001b[0m in \u001b[0;36mplot\u001b[1;34m(self, ax, scatter_kws, line_kws)\u001b[0m\n\u001b[0;32m    340\u001b[0m             \u001b[0mself\u001b[0m\u001b[1;33m.\u001b[0m\u001b[0mscatterplot\u001b[0m\u001b[1;33m(\u001b[0m\u001b[0max\u001b[0m\u001b[1;33m,\u001b[0m \u001b[0mscatter_kws\u001b[0m\u001b[1;33m)\u001b[0m\u001b[1;33m\u001b[0m\u001b[0m\n\u001b[0;32m    341\u001b[0m         \u001b[1;32mif\u001b[0m \u001b[0mself\u001b[0m\u001b[1;33m.\u001b[0m\u001b[0mfit_reg\u001b[0m\u001b[1;33m:\u001b[0m\u001b[1;33m\u001b[0m\u001b[0m\n\u001b[1;32m--> 342\u001b[1;33m             \u001b[0mself\u001b[0m\u001b[1;33m.\u001b[0m\u001b[0mlineplot\u001b[0m\u001b[1;33m(\u001b[0m\u001b[0max\u001b[0m\u001b[1;33m,\u001b[0m \u001b[0mline_kws\u001b[0m\u001b[1;33m)\u001b[0m\u001b[1;33m\u001b[0m\u001b[0m\n\u001b[0m\u001b[0;32m    343\u001b[0m \u001b[1;33m\u001b[0m\u001b[0m\n\u001b[0;32m    344\u001b[0m         \u001b[1;31m# Label the axes\u001b[0m\u001b[1;33m\u001b[0m\u001b[1;33m\u001b[0m\u001b[0m\n",
      "\u001b[1;32m~\\Anaconda3\\lib\\site-packages\\seaborn\\regression.py\u001b[0m in \u001b[0;36mlineplot\u001b[1;34m(self, ax, kws)\u001b[0m\n\u001b[0;32m    385\u001b[0m \u001b[1;33m\u001b[0m\u001b[0m\n\u001b[0;32m    386\u001b[0m         \u001b[1;31m# Fit the regression model\u001b[0m\u001b[1;33m\u001b[0m\u001b[1;33m\u001b[0m\u001b[0m\n\u001b[1;32m--> 387\u001b[1;33m         \u001b[0mgrid\u001b[0m\u001b[1;33m,\u001b[0m \u001b[0myhat\u001b[0m\u001b[1;33m,\u001b[0m \u001b[0merr_bands\u001b[0m \u001b[1;33m=\u001b[0m \u001b[0mself\u001b[0m\u001b[1;33m.\u001b[0m\u001b[0mfit_regression\u001b[0m\u001b[1;33m(\u001b[0m\u001b[0max\u001b[0m\u001b[1;33m)\u001b[0m\u001b[1;33m\u001b[0m\u001b[0m\n\u001b[0m\u001b[0;32m    388\u001b[0m \u001b[1;33m\u001b[0m\u001b[0m\n\u001b[0;32m    389\u001b[0m         \u001b[1;31m# Get set default aesthetics\u001b[0m\u001b[1;33m\u001b[0m\u001b[1;33m\u001b[0m\u001b[0m\n",
      "\u001b[1;32m~\\Anaconda3\\lib\\site-packages\\seaborn\\regression.py\u001b[0m in \u001b[0;36mfit_regression\u001b[1;34m(self, ax, x_range, grid)\u001b[0m\n\u001b[0;32m    208\u001b[0m             \u001b[0myhat\u001b[0m\u001b[1;33m,\u001b[0m \u001b[0myhat_boots\u001b[0m \u001b[1;33m=\u001b[0m \u001b[0mself\u001b[0m\u001b[1;33m.\u001b[0m\u001b[0mfit_logx\u001b[0m\u001b[1;33m(\u001b[0m\u001b[0mgrid\u001b[0m\u001b[1;33m)\u001b[0m\u001b[1;33m\u001b[0m\u001b[0m\n\u001b[0;32m    209\u001b[0m         \u001b[1;32melse\u001b[0m\u001b[1;33m:\u001b[0m\u001b[1;33m\u001b[0m\u001b[0m\n\u001b[1;32m--> 210\u001b[1;33m             \u001b[0myhat\u001b[0m\u001b[1;33m,\u001b[0m \u001b[0myhat_boots\u001b[0m \u001b[1;33m=\u001b[0m \u001b[0mself\u001b[0m\u001b[1;33m.\u001b[0m\u001b[0mfit_fast\u001b[0m\u001b[1;33m(\u001b[0m\u001b[0mgrid\u001b[0m\u001b[1;33m)\u001b[0m\u001b[1;33m\u001b[0m\u001b[0m\n\u001b[0m\u001b[0;32m    211\u001b[0m \u001b[1;33m\u001b[0m\u001b[0m\n\u001b[0;32m    212\u001b[0m         \u001b[1;31m# Compute the confidence interval at each grid point\u001b[0m\u001b[1;33m\u001b[0m\u001b[1;33m\u001b[0m\u001b[0m\n",
      "\u001b[1;32m~\\Anaconda3\\lib\\site-packages\\seaborn\\regression.py\u001b[0m in \u001b[0;36mfit_fast\u001b[1;34m(self, grid)\u001b[0m\n\u001b[0;32m    223\u001b[0m         \u001b[0mgrid\u001b[0m \u001b[1;33m=\u001b[0m \u001b[0mnp\u001b[0m\u001b[1;33m.\u001b[0m\u001b[0mc_\u001b[0m\u001b[1;33m[\u001b[0m\u001b[0mnp\u001b[0m\u001b[1;33m.\u001b[0m\u001b[0mones\u001b[0m\u001b[1;33m(\u001b[0m\u001b[0mlen\u001b[0m\u001b[1;33m(\u001b[0m\u001b[0mgrid\u001b[0m\u001b[1;33m)\u001b[0m\u001b[1;33m)\u001b[0m\u001b[1;33m,\u001b[0m \u001b[0mgrid\u001b[0m\u001b[1;33m]\u001b[0m\u001b[1;33m\u001b[0m\u001b[0m\n\u001b[0;32m    224\u001b[0m         \u001b[0mreg_func\u001b[0m \u001b[1;33m=\u001b[0m \u001b[1;32mlambda\u001b[0m \u001b[0m_x\u001b[0m\u001b[1;33m,\u001b[0m \u001b[0m_y\u001b[0m\u001b[1;33m:\u001b[0m \u001b[0mnp\u001b[0m\u001b[1;33m.\u001b[0m\u001b[0mlinalg\u001b[0m\u001b[1;33m.\u001b[0m\u001b[0mpinv\u001b[0m\u001b[1;33m(\u001b[0m\u001b[0m_x\u001b[0m\u001b[1;33m)\u001b[0m\u001b[1;33m.\u001b[0m\u001b[0mdot\u001b[0m\u001b[1;33m(\u001b[0m\u001b[0m_y\u001b[0m\u001b[1;33m)\u001b[0m\u001b[1;33m\u001b[0m\u001b[0m\n\u001b[1;32m--> 225\u001b[1;33m         \u001b[0myhat\u001b[0m \u001b[1;33m=\u001b[0m \u001b[0mgrid\u001b[0m\u001b[1;33m.\u001b[0m\u001b[0mdot\u001b[0m\u001b[1;33m(\u001b[0m\u001b[0mreg_func\u001b[0m\u001b[1;33m(\u001b[0m\u001b[0mX\u001b[0m\u001b[1;33m,\u001b[0m \u001b[0my\u001b[0m\u001b[1;33m)\u001b[0m\u001b[1;33m)\u001b[0m\u001b[1;33m\u001b[0m\u001b[0m\n\u001b[0m\u001b[0;32m    226\u001b[0m         \u001b[1;32mif\u001b[0m \u001b[0mself\u001b[0m\u001b[1;33m.\u001b[0m\u001b[0mci\u001b[0m \u001b[1;32mis\u001b[0m \u001b[1;32mNone\u001b[0m\u001b[1;33m:\u001b[0m\u001b[1;33m\u001b[0m\u001b[0m\n\u001b[0;32m    227\u001b[0m             \u001b[1;32mreturn\u001b[0m \u001b[0myhat\u001b[0m\u001b[1;33m,\u001b[0m \u001b[1;32mNone\u001b[0m\u001b[1;33m\u001b[0m\u001b[0m\n",
      "\u001b[1;32m~\\Anaconda3\\lib\\site-packages\\seaborn\\regression.py\u001b[0m in \u001b[0;36m<lambda>\u001b[1;34m(_x, _y)\u001b[0m\n\u001b[0;32m    222\u001b[0m         \u001b[0mX\u001b[0m\u001b[1;33m,\u001b[0m \u001b[0my\u001b[0m \u001b[1;33m=\u001b[0m \u001b[0mnp\u001b[0m\u001b[1;33m.\u001b[0m\u001b[0mc_\u001b[0m\u001b[1;33m[\u001b[0m\u001b[0mnp\u001b[0m\u001b[1;33m.\u001b[0m\u001b[0mones\u001b[0m\u001b[1;33m(\u001b[0m\u001b[0mlen\u001b[0m\u001b[1;33m(\u001b[0m\u001b[0mself\u001b[0m\u001b[1;33m.\u001b[0m\u001b[0mx\u001b[0m\u001b[1;33m)\u001b[0m\u001b[1;33m)\u001b[0m\u001b[1;33m,\u001b[0m \u001b[0mself\u001b[0m\u001b[1;33m.\u001b[0m\u001b[0mx\u001b[0m\u001b[1;33m]\u001b[0m\u001b[1;33m,\u001b[0m \u001b[0mself\u001b[0m\u001b[1;33m.\u001b[0m\u001b[0my\u001b[0m\u001b[1;33m\u001b[0m\u001b[0m\n\u001b[0;32m    223\u001b[0m         \u001b[0mgrid\u001b[0m \u001b[1;33m=\u001b[0m \u001b[0mnp\u001b[0m\u001b[1;33m.\u001b[0m\u001b[0mc_\u001b[0m\u001b[1;33m[\u001b[0m\u001b[0mnp\u001b[0m\u001b[1;33m.\u001b[0m\u001b[0mones\u001b[0m\u001b[1;33m(\u001b[0m\u001b[0mlen\u001b[0m\u001b[1;33m(\u001b[0m\u001b[0mgrid\u001b[0m\u001b[1;33m)\u001b[0m\u001b[1;33m)\u001b[0m\u001b[1;33m,\u001b[0m \u001b[0mgrid\u001b[0m\u001b[1;33m]\u001b[0m\u001b[1;33m\u001b[0m\u001b[0m\n\u001b[1;32m--> 224\u001b[1;33m         \u001b[0mreg_func\u001b[0m \u001b[1;33m=\u001b[0m \u001b[1;32mlambda\u001b[0m \u001b[0m_x\u001b[0m\u001b[1;33m,\u001b[0m \u001b[0m_y\u001b[0m\u001b[1;33m:\u001b[0m \u001b[0mnp\u001b[0m\u001b[1;33m.\u001b[0m\u001b[0mlinalg\u001b[0m\u001b[1;33m.\u001b[0m\u001b[0mpinv\u001b[0m\u001b[1;33m(\u001b[0m\u001b[0m_x\u001b[0m\u001b[1;33m)\u001b[0m\u001b[1;33m.\u001b[0m\u001b[0mdot\u001b[0m\u001b[1;33m(\u001b[0m\u001b[0m_y\u001b[0m\u001b[1;33m)\u001b[0m\u001b[1;33m\u001b[0m\u001b[0m\n\u001b[0m\u001b[0;32m    225\u001b[0m         \u001b[0myhat\u001b[0m \u001b[1;33m=\u001b[0m \u001b[0mgrid\u001b[0m\u001b[1;33m.\u001b[0m\u001b[0mdot\u001b[0m\u001b[1;33m(\u001b[0m\u001b[0mreg_func\u001b[0m\u001b[1;33m(\u001b[0m\u001b[0mX\u001b[0m\u001b[1;33m,\u001b[0m \u001b[0my\u001b[0m\u001b[1;33m)\u001b[0m\u001b[1;33m)\u001b[0m\u001b[1;33m\u001b[0m\u001b[0m\n\u001b[0;32m    226\u001b[0m         \u001b[1;32mif\u001b[0m \u001b[0mself\u001b[0m\u001b[1;33m.\u001b[0m\u001b[0mci\u001b[0m \u001b[1;32mis\u001b[0m \u001b[1;32mNone\u001b[0m\u001b[1;33m:\u001b[0m\u001b[1;33m\u001b[0m\u001b[0m\n",
      "\u001b[1;32m~\\Anaconda3\\lib\\site-packages\\numpy\\linalg\\linalg.py\u001b[0m in \u001b[0;36mpinv\u001b[1;34m(a, rcond)\u001b[0m\n\u001b[0;32m   1721\u001b[0m         \u001b[0mres\u001b[0m \u001b[1;33m=\u001b[0m \u001b[0mempty\u001b[0m\u001b[1;33m(\u001b[0m\u001b[0ma\u001b[0m\u001b[1;33m.\u001b[0m\u001b[0mshape\u001b[0m\u001b[1;33m[\u001b[0m\u001b[1;33m:\u001b[0m\u001b[1;33m-\u001b[0m\u001b[1;36m2\u001b[0m\u001b[1;33m]\u001b[0m \u001b[1;33m+\u001b[0m \u001b[1;33m(\u001b[0m\u001b[0ma\u001b[0m\u001b[1;33m.\u001b[0m\u001b[0mshape\u001b[0m\u001b[1;33m[\u001b[0m\u001b[1;33m-\u001b[0m\u001b[1;36m1\u001b[0m\u001b[1;33m]\u001b[0m\u001b[1;33m,\u001b[0m \u001b[0ma\u001b[0m\u001b[1;33m.\u001b[0m\u001b[0mshape\u001b[0m\u001b[1;33m[\u001b[0m\u001b[1;33m-\u001b[0m\u001b[1;36m2\u001b[0m\u001b[1;33m]\u001b[0m\u001b[1;33m)\u001b[0m\u001b[1;33m,\u001b[0m \u001b[0mdtype\u001b[0m\u001b[1;33m=\u001b[0m\u001b[0ma\u001b[0m\u001b[1;33m.\u001b[0m\u001b[0mdtype\u001b[0m\u001b[1;33m)\u001b[0m\u001b[1;33m\u001b[0m\u001b[0m\n\u001b[0;32m   1722\u001b[0m         \u001b[1;32mreturn\u001b[0m \u001b[0mwrap\u001b[0m\u001b[1;33m(\u001b[0m\u001b[0mres\u001b[0m\u001b[1;33m)\u001b[0m\u001b[1;33m\u001b[0m\u001b[0m\n\u001b[1;32m-> 1723\u001b[1;33m     \u001b[0ma\u001b[0m \u001b[1;33m=\u001b[0m \u001b[0ma\u001b[0m\u001b[1;33m.\u001b[0m\u001b[0mconjugate\u001b[0m\u001b[1;33m(\u001b[0m\u001b[1;33m)\u001b[0m\u001b[1;33m\u001b[0m\u001b[0m\n\u001b[0m\u001b[0;32m   1724\u001b[0m     \u001b[0mu\u001b[0m\u001b[1;33m,\u001b[0m \u001b[0ms\u001b[0m\u001b[1;33m,\u001b[0m \u001b[0mvt\u001b[0m \u001b[1;33m=\u001b[0m \u001b[0msvd\u001b[0m\u001b[1;33m(\u001b[0m\u001b[0ma\u001b[0m\u001b[1;33m,\u001b[0m \u001b[0mfull_matrices\u001b[0m\u001b[1;33m=\u001b[0m\u001b[1;32mFalse\u001b[0m\u001b[1;33m)\u001b[0m\u001b[1;33m\u001b[0m\u001b[0m\n\u001b[0;32m   1725\u001b[0m \u001b[1;33m\u001b[0m\u001b[0m\n",
      "\u001b[1;31mAttributeError\u001b[0m: 'str' object has no attribute 'conjugate'"
     ]
    },
    {
     "data": {
      "image/png": "[encoded data removed]",
      "text/plain": [
       "<Figure size 360x360 with 1 Axes>"
      ]
     },
     "metadata": {},
     "output_type": "display_data"
    }
   ],
   "source": [
    "sns.lmplot(data = airbnbDF, x = 'room_type', y = 'price')\n",
    "\n",
    "fig = plt.gcf()\n",
    "fig.set_size_inches( 8, 6)\n",
    "plt.xlim(0,500)\n",
    "plt.ylim(0,2000)"
   ]
  },
  {
   "cell_type": "code",
   "execution_count": 3,
   "metadata": {},
   "outputs": [
    {
     "data": {
      "image/png": "[encoded data removed]",
      "text/plain": [
       "<Figure size 1152x720 with 1 Axes>"
      ]
     },
     "metadata": {},
     "output_type": "display_data"
    }
   ],
   "source": [
    "sns.lmplot(data = airbnbDF, x = 'cleaning_fee', y = 'price',\n",
    "          fit_reg = False,\n",
    "           hue = 'property_type')\n",
    "\n",
    "plt.ylim(0,3000)\n",
    "plt.xlim(0,1000)\n",
    "\n",
    "fig = plt.gcf()\n",
    "fig.set_size_inches( 16, 10)\n"
   ]
  },
  {
   "cell_type": "code",
   "execution_count": 26,
   "metadata": {},
   "outputs": [
    {
     "data": {
      "text/plain": [
       "<matplotlib.axes._subplots.AxesSubplot at 0x2e4522f9208>"
      ]
     },
     "execution_count": 26,
     "metadata": {},
     "output_type": "execute_result"
    },
    {
     "data": {
      "image/png": "[encoded data removed]",
      "text/plain": [
       "<Figure size 1440x720 with 1 Axes>"
      ]
     },
     "metadata": {},
     "output_type": "display_data"
    }
   ],
   "source": [
    "output.boxplot('review_scores_rating',by='cancellation_policy',figsize=(20,10))"
   ]
  },
  {
   "cell_type": "code",
   "execution_count": 27,
   "metadata": {},
   "outputs": [
    {
     "data": {
      "text/plain": [
       "<matplotlib.axes._subplots.AxesSubplot at 0x2e4523c6320>"
      ]
     },
     "execution_count": 27,
     "metadata": {},
     "output_type": "execute_result"
    },
    {
     "data": {
      "image/png": "[encoded data removed]",
      "text/plain": [
       "<Figure size 720x576 with 1 Axes>"
      ]
     },
     "metadata": {},
     "output_type": "display_data"
    }
   ],
   "source": [
    "output.boxplot('review_scores_rating',by='instant_bookable',figsize=(10,8))"
   ]
  },
  {
   "cell_type": "code",
   "execution_count": null,
   "metadata": {},
   "outputs": [],
   "source": []
  }
 ],
 "metadata": {
  "kernelspec": {
   "display_name": "Python 3",
   "language": "python",
   "name": "python3"
  },
  "language_info": {
   "codemirror_mode": {
    "name": "ipython",
    "version": 3
   },
   "file_extension": ".py",
   "mimetype": "text/x-python",
   "name": "python",
   "nbconvert_exporter": "python",
   "pygments_lexer": "ipython3",
   "version": "3.6.5"
  }
 },
 "nbformat": 4,
 "nbformat_minor": 2
}
